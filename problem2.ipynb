{
 "cells": [
  {
   "cell_type": "code",
   "execution_count": 3,
   "id": "5da0e97f-83de-4d34-8dc9-06f883cd7ae2",
   "metadata": {},
   "outputs": [
    {
     "name": "stdout",
     "output_type": "stream",
     "text": [
      "Collecting pytorch-lightning==1.2.2\n",
      "  Using cached pytorch_lightning-1.2.2-py3-none-any.whl.metadata (25 kB)\n",
      "Requirement already satisfied: numpy>=1.16.6 in /opt/conda/lib/python3.12/site-packages (from pytorch-lightning==1.2.2) (1.26.4)\n",
      "Requirement already satisfied: torch>=1.4 in /opt/conda/lib/python3.12/site-packages (from pytorch-lightning==1.2.2) (2.5.1+cu124)\n",
      "Collecting future>=0.17.1 (from pytorch-lightning==1.2.2)\n",
      "  Using cached future-1.0.0-py3-none-any.whl.metadata (4.0 kB)\n",
      "Requirement already satisfied: PyYAML!=5.4.*,>=5.1 in /opt/conda/lib/python3.12/site-packages (from pytorch-lightning==1.2.2) (6.0.2)\n",
      "Requirement already satisfied: tqdm>=4.41.0 in /opt/conda/lib/python3.12/site-packages (from pytorch-lightning==1.2.2) (4.67.0)\n",
      "Requirement already satisfied: fsspec>=0.8.1 in /opt/conda/lib/python3.12/site-packages (from fsspec[http]>=0.8.1->pytorch-lightning==1.2.2) (2024.10.0)\n",
      "Collecting tensorboard>=2.2.0 (from pytorch-lightning==1.2.2)\n",
      "  Using cached tensorboard-2.19.0-py3-none-any.whl.metadata (1.8 kB)\n",
      "Collecting aiohttp!=4.0.0a0,!=4.0.0a1 (from fsspec[http]>=0.8.1->pytorch-lightning==1.2.2)\n",
      "  Using cached aiohttp-3.11.18-cp312-cp312-manylinux_2_17_x86_64.manylinux2014_x86_64.whl.metadata (7.7 kB)\n",
      "Collecting absl-py>=0.4 (from tensorboard>=2.2.0->pytorch-lightning==1.2.2)\n",
      "  Using cached absl_py-2.2.2-py3-none-any.whl.metadata (2.6 kB)\n",
      "Collecting grpcio>=1.48.2 (from tensorboard>=2.2.0->pytorch-lightning==1.2.2)\n",
      "  Using cached grpcio-1.71.0-cp312-cp312-manylinux_2_17_x86_64.manylinux2014_x86_64.whl.metadata (3.8 kB)\n",
      "Collecting markdown>=2.6.8 (from tensorboard>=2.2.0->pytorch-lightning==1.2.2)\n",
      "  Using cached markdown-3.8-py3-none-any.whl.metadata (5.1 kB)\n",
      "Requirement already satisfied: packaging in /opt/conda/lib/python3.12/site-packages (from tensorboard>=2.2.0->pytorch-lightning==1.2.2) (24.1)\n",
      "Requirement already satisfied: protobuf!=4.24.0,>=3.19.6 in /opt/conda/lib/python3.12/site-packages (from tensorboard>=2.2.0->pytorch-lightning==1.2.2) (5.28.2)\n",
      "Requirement already satisfied: setuptools>=41.0.0 in /opt/conda/lib/python3.12/site-packages (from tensorboard>=2.2.0->pytorch-lightning==1.2.2) (75.3.0)\n",
      "Requirement already satisfied: six>1.9 in /opt/conda/lib/python3.12/site-packages (from tensorboard>=2.2.0->pytorch-lightning==1.2.2) (1.16.0)\n",
      "Collecting tensorboard-data-server<0.8.0,>=0.7.0 (from tensorboard>=2.2.0->pytorch-lightning==1.2.2)\n",
      "  Using cached tensorboard_data_server-0.7.2-py3-none-manylinux_2_31_x86_64.whl.metadata (1.1 kB)\n",
      "Collecting werkzeug>=1.0.1 (from tensorboard>=2.2.0->pytorch-lightning==1.2.2)\n",
      "  Using cached werkzeug-3.1.3-py3-none-any.whl.metadata (3.7 kB)\n",
      "Requirement already satisfied: filelock in /opt/conda/lib/python3.12/site-packages (from torch>=1.4->pytorch-lightning==1.2.2) (3.13.1)\n",
      "Requirement already satisfied: typing-extensions>=4.8.0 in /opt/conda/lib/python3.12/site-packages (from torch>=1.4->pytorch-lightning==1.2.2) (4.12.2)\n",
      "Requirement already satisfied: networkx in /opt/conda/lib/python3.12/site-packages (from torch>=1.4->pytorch-lightning==1.2.2) (3.4.2)\n",
      "Requirement already satisfied: jinja2 in /opt/conda/lib/python3.12/site-packages (from torch>=1.4->pytorch-lightning==1.2.2) (3.1.4)\n",
      "Requirement already satisfied: nvidia-cuda-nvrtc-cu12==12.4.127 in /opt/conda/lib/python3.12/site-packages (from torch>=1.4->pytorch-lightning==1.2.2) (12.4.127)\n",
      "Requirement already satisfied: nvidia-cuda-runtime-cu12==12.4.127 in /opt/conda/lib/python3.12/site-packages (from torch>=1.4->pytorch-lightning==1.2.2) (12.4.127)\n",
      "Requirement already satisfied: nvidia-cuda-cupti-cu12==12.4.127 in /opt/conda/lib/python3.12/site-packages (from torch>=1.4->pytorch-lightning==1.2.2) (12.4.127)\n",
      "Requirement already satisfied: nvidia-cudnn-cu12==9.1.0.70 in /opt/conda/lib/python3.12/site-packages (from torch>=1.4->pytorch-lightning==1.2.2) (9.1.0.70)\n",
      "Requirement already satisfied: nvidia-cublas-cu12==12.4.5.8 in /opt/conda/lib/python3.12/site-packages (from torch>=1.4->pytorch-lightning==1.2.2) (12.4.5.8)\n",
      "Requirement already satisfied: nvidia-cufft-cu12==11.2.1.3 in /opt/conda/lib/python3.12/site-packages (from torch>=1.4->pytorch-lightning==1.2.2) (11.2.1.3)\n",
      "Requirement already satisfied: nvidia-curand-cu12==10.3.5.147 in /opt/conda/lib/python3.12/site-packages (from torch>=1.4->pytorch-lightning==1.2.2) (10.3.5.147)\n",
      "Requirement already satisfied: nvidia-cusolver-cu12==11.6.1.9 in /opt/conda/lib/python3.12/site-packages (from torch>=1.4->pytorch-lightning==1.2.2) (11.6.1.9)\n",
      "Requirement already satisfied: nvidia-cusparse-cu12==12.3.1.170 in /opt/conda/lib/python3.12/site-packages (from torch>=1.4->pytorch-lightning==1.2.2) (12.3.1.170)\n",
      "Requirement already satisfied: nvidia-nccl-cu12==2.21.5 in /opt/conda/lib/python3.12/site-packages (from torch>=1.4->pytorch-lightning==1.2.2) (2.21.5)\n",
      "Requirement already satisfied: nvidia-nvtx-cu12==12.4.127 in /opt/conda/lib/python3.12/site-packages (from torch>=1.4->pytorch-lightning==1.2.2) (12.4.127)\n",
      "Requirement already satisfied: nvidia-nvjitlink-cu12==12.4.127 in /opt/conda/lib/python3.12/site-packages (from torch>=1.4->pytorch-lightning==1.2.2) (12.4.127)\n",
      "Requirement already satisfied: triton==3.1.0 in /opt/conda/lib/python3.12/site-packages (from torch>=1.4->pytorch-lightning==1.2.2) (3.1.0)\n",
      "Requirement already satisfied: sympy==1.13.1 in /opt/conda/lib/python3.12/site-packages (from torch>=1.4->pytorch-lightning==1.2.2) (1.13.1)\n",
      "Requirement already satisfied: mpmath<1.4,>=1.1.0 in /opt/conda/lib/python3.12/site-packages (from sympy==1.13.1->torch>=1.4->pytorch-lightning==1.2.2) (1.3.0)\n",
      "Collecting aiohappyeyeballs>=2.3.0 (from aiohttp!=4.0.0a0,!=4.0.0a1->fsspec[http]>=0.8.1->pytorch-lightning==1.2.2)\n",
      "  Using cached aiohappyeyeballs-2.6.1-py3-none-any.whl.metadata (5.9 kB)\n",
      "Collecting aiosignal>=1.1.2 (from aiohttp!=4.0.0a0,!=4.0.0a1->fsspec[http]>=0.8.1->pytorch-lightning==1.2.2)\n",
      "  Using cached aiosignal-1.3.2-py2.py3-none-any.whl.metadata (3.8 kB)\n",
      "Requirement already satisfied: attrs>=17.3.0 in /opt/conda/lib/python3.12/site-packages (from aiohttp!=4.0.0a0,!=4.0.0a1->fsspec[http]>=0.8.1->pytorch-lightning==1.2.2) (24.2.0)\n",
      "Collecting frozenlist>=1.1.1 (from aiohttp!=4.0.0a0,!=4.0.0a1->fsspec[http]>=0.8.1->pytorch-lightning==1.2.2)\n",
      "  Using cached frozenlist-1.6.0-cp312-cp312-manylinux_2_5_x86_64.manylinux1_x86_64.manylinux_2_17_x86_64.manylinux2014_x86_64.whl.metadata (16 kB)\n",
      "Collecting multidict<7.0,>=4.5 (from aiohttp!=4.0.0a0,!=4.0.0a1->fsspec[http]>=0.8.1->pytorch-lightning==1.2.2)\n",
      "  Using cached multidict-6.4.3-cp312-cp312-manylinux_2_17_x86_64.manylinux2014_x86_64.whl.metadata (5.3 kB)\n",
      "Collecting propcache>=0.2.0 (from aiohttp!=4.0.0a0,!=4.0.0a1->fsspec[http]>=0.8.1->pytorch-lightning==1.2.2)\n",
      "  Using cached propcache-0.3.1-cp312-cp312-manylinux_2_17_x86_64.manylinux2014_x86_64.whl.metadata (10 kB)\n",
      "Collecting yarl<2.0,>=1.17.0 (from aiohttp!=4.0.0a0,!=4.0.0a1->fsspec[http]>=0.8.1->pytorch-lightning==1.2.2)\n",
      "  Using cached yarl-1.20.0-cp312-cp312-manylinux_2_17_x86_64.manylinux2014_x86_64.whl.metadata (72 kB)\n",
      "Requirement already satisfied: MarkupSafe>=2.1.1 in /opt/conda/lib/python3.12/site-packages (from werkzeug>=1.0.1->tensorboard>=2.2.0->pytorch-lightning==1.2.2) (3.0.2)\n",
      "Requirement already satisfied: idna>=2.0 in /opt/conda/lib/python3.12/site-packages (from yarl<2.0,>=1.17.0->aiohttp!=4.0.0a0,!=4.0.0a1->fsspec[http]>=0.8.1->pytorch-lightning==1.2.2) (3.10)\n",
      "Using cached pytorch_lightning-1.2.2-py3-none-any.whl (816 kB)\n",
      "Using cached future-1.0.0-py3-none-any.whl (491 kB)\n",
      "Using cached tensorboard-2.19.0-py3-none-any.whl (5.5 MB)\n",
      "Using cached absl_py-2.2.2-py3-none-any.whl (135 kB)\n",
      "Using cached aiohttp-3.11.18-cp312-cp312-manylinux_2_17_x86_64.manylinux2014_x86_64.whl (1.7 MB)\n",
      "Using cached grpcio-1.71.0-cp312-cp312-manylinux_2_17_x86_64.manylinux2014_x86_64.whl (5.9 MB)\n",
      "Using cached markdown-3.8-py3-none-any.whl (106 kB)\n",
      "Using cached tensorboard_data_server-0.7.2-py3-none-manylinux_2_31_x86_64.whl (6.6 MB)\n",
      "Using cached werkzeug-3.1.3-py3-none-any.whl (224 kB)\n",
      "Using cached aiohappyeyeballs-2.6.1-py3-none-any.whl (15 kB)\n",
      "Using cached aiosignal-1.3.2-py2.py3-none-any.whl (7.6 kB)\n",
      "Using cached frozenlist-1.6.0-cp312-cp312-manylinux_2_5_x86_64.manylinux1_x86_64.manylinux_2_17_x86_64.manylinux2014_x86_64.whl (316 kB)\n",
      "Using cached multidict-6.4.3-cp312-cp312-manylinux_2_17_x86_64.manylinux2014_x86_64.whl (223 kB)\n",
      "Using cached propcache-0.3.1-cp312-cp312-manylinux_2_17_x86_64.manylinux2014_x86_64.whl (245 kB)\n",
      "Using cached yarl-1.20.0-cp312-cp312-manylinux_2_17_x86_64.manylinux2014_x86_64.whl (349 kB)\n",
      "Installing collected packages: werkzeug, tensorboard-data-server, propcache, multidict, markdown, grpcio, future, frozenlist, aiohappyeyeballs, absl-py, yarl, tensorboard, aiosignal, aiohttp, pytorch-lightning\n",
      "Successfully installed absl-py-2.2.2 aiohappyeyeballs-2.6.1 aiohttp-3.11.18 aiosignal-1.3.2 frozenlist-1.6.0 future-1.0.0 grpcio-1.71.0 markdown-3.8 multidict-6.4.3 propcache-0.3.1 pytorch-lightning-1.2.2 tensorboard-2.19.0 tensorboard-data-server-0.7.2 werkzeug-3.1.3 yarl-1.20.0\n"
     ]
    }
   ],
   "source": [
    "!pip install pytorch-lightning==1.2.2\n"
   ]
  },
  {
   "cell_type": "code",
   "execution_count": 4,
   "id": "2112f031-5edd-44ae-ad29-4e9d15389441",
   "metadata": {},
   "outputs": [],
   "source": [
    "# load packages\n",
    "\n",
    "import zipfile\n",
    "import torch\n",
    "import torch.nn as nn\n",
    "import torch.nn.functional as F\n",
    "import torchvision.transforms as T\n",
    "import torchvision.models as models\n",
    "import matplotlib.pyplot as plt\n",
    "import numpy as np\n",
    "\n",
    "from torch.utils.data import TensorDataset, DataLoader"
   ]
  },
  {
   "cell_type": "code",
   "execution_count": 5,
   "id": "f1e64149-b29c-41c2-a4d3-94a4d01c313c",
   "metadata": {},
   "outputs": [],
   "source": [
    "# Unzip data folder\n",
    "zip_path = \"problem2.zip\" \n",
    "extract_path = \"problem2\" \n",
    "with zipfile.ZipFile(zip_path, 'r') as zip_ref:\n",
    "    zip_ref.extractall(extract_path)"
   ]
  },
  {
   "cell_type": "code",
   "execution_count": 6,
   "id": "ea9a6848-02fc-4841-8332-b330c958557e",
   "metadata": {},
   "outputs": [],
   "source": [
    "#create the training and validation datasets\n",
    "training_data = np.load( './problem2/problem2/training_data.npz' )\n",
    "training_images = torch.from_numpy(training_data['a']).float()\n",
    "training_labels = torch.from_numpy(training_data['b']).long()\n",
    "train_dataset = TensorDataset(training_images, training_labels)\n",
    "\n",
    "evaluation_data = np.load( './problem2/problem2/evaluation_data.npz' )\n",
    "evaluation_images = torch.from_numpy(evaluation_data['a']).float()\n",
    "evaluation_labels = torch.from_numpy(evaluation_data['b']).long()\n",
    "val_dataset = TensorDataset(evaluation_images, evaluation_labels)"
   ]
  },
  {
   "cell_type": "code",
   "execution_count": 7,
   "id": "5c72a7ce-aaea-4ad2-8e97-cab043e33721",
   "metadata": {},
   "outputs": [],
   "source": [
    "#define device to use parallelization\n",
    "\n",
    "device = torch.device(\"cuda\" if torch.cuda.is_available() else \"cpu\")"
   ]
  },
  {
   "cell_type": "code",
   "execution_count": 8,
   "id": "0d22fd0b-f026-4392-bff9-66623f74c49e",
   "metadata": {},
   "outputs": [
    {
     "name": "stdout",
     "output_type": "stream",
     "text": [
      "Number of training batches: 375\n",
      "Number of validation batches: 600\n"
     ]
    }
   ],
   "source": [
    "#divide the data in batches using DataLoader\n",
    "\n",
    "batch_size = 4\n",
    "train_dataloader = torch.utils.data.DataLoader(\n",
    "    dataset=train_dataset, batch_size=batch_size, shuffle=True\n",
    ")\n",
    "\n",
    "val_dataloader = torch.utils.data.DataLoader(\n",
    "    dataset=val_dataset, batch_size=batch_size, shuffle=False\n",
    ")\n",
    "\n",
    "print(f\"Number of training batches: {len(train_dataloader)}\")\n",
    "print(f\"Number of validation batches: {len(val_dataloader)}\")"
   ]
  },
  {
   "cell_type": "code",
   "execution_count": 9,
   "id": "cd8ca2ba-30dd-4a46-891d-543769b503fe",
   "metadata": {},
   "outputs": [
    {
     "data": {
      "image/png": "[encoded data removed]",
      "text/plain": [
       "<Figure size 640x480 with 1 Axes>"
      ]
     },
     "metadata": {},
     "output_type": "display_data"
    }
   ],
   "source": [
    "# check one of the images\n",
    "img = training_data['a'][1]\n",
    "img_correct = np.transpose(img, (1, 2, 0))\n",
    "plt.imshow(img_correct)\n",
    "plt.show()"
   ]
  },
  {
   "cell_type": "code",
   "execution_count": 10,
   "id": "2b3e9375-b0d5-4a08-b9a9-0da0ac91a959",
   "metadata": {},
   "outputs": [
    {
     "name": "stdout",
     "output_type": "stream",
     "text": [
      "Using device: cuda\n",
      "VGG11(\n",
      "  (layer1): Sequential(\n",
      "    (0): Conv2d(3, 64, kernel_size=(3, 3), stride=(1, 1), padding=(1, 1))\n",
      "    (1): BatchNorm2d(64, eps=1e-05, momentum=0.1, affine=True, track_running_stats=True)\n",
      "    (2): ReLU()\n",
      "    (3): MaxPool2d(kernel_size=2, stride=2, padding=0, dilation=1, ceil_mode=False)\n",
      "  )\n",
      "  (layer2): Sequential(\n",
      "    (0): Conv2d(64, 128, kernel_size=(3, 3), stride=(1, 1), padding=(1, 1))\n",
      "    (1): BatchNorm2d(128, eps=1e-05, momentum=0.1, affine=True, track_running_stats=True)\n",
      "    (2): ReLU()\n",
      "    (3): MaxPool2d(kernel_size=2, stride=2, padding=0, dilation=1, ceil_mode=False)\n",
      "  )\n",
      "  (layer3): Sequential(\n",
      "    (0): Conv2d(128, 256, kernel_size=(3, 3), stride=(1, 1), padding=(1, 1))\n",
      "    (1): BatchNorm2d(256, eps=1e-05, momentum=0.1, affine=True, track_running_stats=True)\n",
      "    (2): ReLU()\n",
      "  )\n",
      "  (layer4): Sequential(\n",
      "    (0): Conv2d(256, 256, kernel_size=(3, 3), stride=(1, 1), padding=(1, 1))\n",
      "    (1): BatchNorm2d(256, eps=1e-05, momentum=0.1, affine=True, track_running_stats=True)\n",
      "    (2): ReLU()\n",
      "    (3): MaxPool2d(kernel_size=2, stride=2, padding=0, dilation=1, ceil_mode=False)\n",
      "  )\n",
      "  (layer5): Sequential(\n",
      "    (0): Conv2d(256, 512, kernel_size=(3, 3), stride=(1, 1), padding=(1, 1))\n",
      "    (1): BatchNorm2d(512, eps=1e-05, momentum=0.1, affine=True, track_running_stats=True)\n",
      "    (2): ReLU()\n",
      "  )\n",
      "  (layer6): Sequential(\n",
      "    (0): Conv2d(512, 512, kernel_size=(3, 3), stride=(1, 1), padding=(1, 1))\n",
      "    (1): BatchNorm2d(512, eps=1e-05, momentum=0.1, affine=True, track_running_stats=True)\n",
      "    (2): ReLU()\n",
      "    (3): MaxPool2d(kernel_size=2, stride=2, padding=0, dilation=1, ceil_mode=False)\n",
      "  )\n",
      "  (layer7): Sequential(\n",
      "    (0): Conv2d(512, 512, kernel_size=(3, 3), stride=(1, 1), padding=(1, 1))\n",
      "    (1): BatchNorm2d(512, eps=1e-05, momentum=0.1, affine=True, track_running_stats=True)\n",
      "    (2): ReLU()\n",
      "  )\n",
      "  (layer8): Sequential(\n",
      "    (0): Conv2d(512, 512, kernel_size=(3, 3), stride=(1, 1), padding=(1, 1))\n",
      "    (1): BatchNorm2d(512, eps=1e-05, momentum=0.1, affine=True, track_running_stats=True)\n",
      "    (2): ReLU()\n",
      "    (3): MaxPool2d(kernel_size=2, stride=2, padding=0, dilation=1, ceil_mode=False)\n",
      "  )\n",
      "  (layer9): Sequential(\n",
      "    (0): Linear(in_features=4608, out_features=4096, bias=True)\n",
      "    (1): ReLU()\n",
      "  )\n",
      "  (layer10): Sequential(\n",
      "    (0): Linear(in_features=4096, out_features=4096, bias=True)\n",
      "    (1): ReLU()\n",
      "  )\n",
      "  (layer11): Sequential(\n",
      "    (0): Linear(in_features=4096, out_features=3, bias=True)\n",
      "  )\n",
      ")\n"
     ]
    }
   ],
   "source": [
    "#define the model\n",
    "\n",
    "class VGG11(nn.Module):\n",
    "    def __init__(self, in_channels=3, num_classes=3):\n",
    "        \"\"\"\n",
    "        # Assumes input images are of size (3, 96, 96).\n",
    "        \"\"\"\n",
    "        super().__init__()\n",
    "        ## Define the layers\n",
    "        self.layer1 = nn.Sequential(\n",
    "            #Eight convolutional layers \n",
    "            nn.Conv2d(in_channels, 64, kernel_size=3, stride=1, padding=1),\n",
    "            nn.BatchNorm2d(64),\n",
    "            nn.ReLU(),\n",
    "            nn.MaxPool2d(kernel_size = 2, stride = 2))\n",
    "        self.layer2 = nn.Sequential(\n",
    "            nn.Conv2d(64, 128, kernel_size=3, stride=1, padding=1),\n",
    "            nn.BatchNorm2d(128),\n",
    "            nn.ReLU(),\n",
    "            nn.MaxPool2d(kernel_size = 2, stride = 2))\n",
    "        self.layer3 = nn.Sequential(\n",
    "            nn.Conv2d(128, 256, kernel_size=3, stride=1, padding=1),\n",
    "            nn.BatchNorm2d(256),\n",
    "            nn.ReLU())\n",
    "        self.layer4 = nn.Sequential(\n",
    "            nn.Conv2d(256, 256, kernel_size=3, stride=1, padding=1),\n",
    "            nn.BatchNorm2d(256),\n",
    "            nn.ReLU(),\n",
    "            nn.MaxPool2d(kernel_size = 2, stride = 2))\n",
    "        self.layer5 = nn.Sequential(\n",
    "            nn.Conv2d(256, 512, kernel_size=3, stride=1, padding=1),\n",
    "            nn.BatchNorm2d(512),\n",
    "            nn.ReLU())\n",
    "        self.layer6 = nn.Sequential(\n",
    "            nn.Conv2d(512, 512, kernel_size=3, stride=1, padding=1),\n",
    "            nn.BatchNorm2d(512),\n",
    "            nn.ReLU(),\n",
    "            nn.MaxPool2d(kernel_size = 2, stride = 2))\n",
    "        self.layer7 = nn.Sequential(\n",
    "            nn.Conv2d(512, 512, kernel_size=3, stride=1, padding=1),\n",
    "            nn.BatchNorm2d(512),\n",
    "            nn.ReLU())\n",
    "        self.layer8 = nn.Sequential(\n",
    "            nn.Conv2d(512, 512, kernel_size=3, stride=1, padding=1),\n",
    "            nn.BatchNorm2d(512),\n",
    "            nn.ReLU(),\n",
    "            nn.MaxPool2d(kernel_size = 2, stride = 2))\n",
    "        #three fully connected layers\n",
    "        self.layer9 = nn.Sequential(\n",
    "            nn.Linear(3*3*512, 4096),\n",
    "            nn.ReLU())\n",
    "        self.layer10 = nn.Sequential(\n",
    "            nn.Linear(4096, 4096),\n",
    "            nn.ReLU())\n",
    "        self.layer11 = nn.Sequential(\n",
    "            nn.Linear(4096, num_classes))\n",
    "\n",
    "    def forward(self, x):\n",
    "        ## Define the forward pass\n",
    "        x = self.layer1(x)\n",
    "        x = self.layer2(x)\n",
    "        x = self.layer3(x)\n",
    "        x = self.layer4(x)\n",
    "        x = self.layer5(x)\n",
    "        x = self.layer6(x)\n",
    "        x = self.layer7(x)\n",
    "        x = self.layer8(x)\n",
    "        #reshape the data to pass it to the fully connected layers\n",
    "        x = x.reshape(x.size(0), -1)\n",
    "        x = self.layer9(x)\n",
    "        x = self.layer10(x)\n",
    "        x = self.layer11(x)\n",
    "        return x\n",
    "\n",
    "#initialize model\n",
    "model = VGG11(in_channels=3, num_classes=3)\n",
    "\n",
    "print(f\"Using device: {device}\")\n",
    "\n",
    "## Move model to device\n",
    "model = model.to(device)\n",
    "print(model)"
   ]
  },
  {
   "cell_type": "code",
   "execution_count": 11,
   "id": "5c2068c8-d270-441c-8456-2eefa305ef72",
   "metadata": {},
   "outputs": [],
   "source": [
    "def accuracy(soft_pred, target):\n",
    "    \"\"\"The number of correct predictions divided by the number of total predictions.\"\"\"\n",
    "    return (soft_pred.argmax(dim=1) == target).float().mean()"
   ]
  },
  {
   "cell_type": "code",
   "execution_count": 12,
   "id": "4d470f94-5ea5-416e-8096-a465ba5375e7",
   "metadata": {},
   "outputs": [],
   "source": [
    "def confusion_matrix(soft_pred, target):\n",
    "    \"\"\"Compute the confusion matrix. Rows represent the true class, columns represent the predicted class.\n",
    "    This can be useful for understanding which classes are being confused.\"\"\"\n",
    "    num_samples = soft_pred.shape[0]\n",
    "    num_classes = soft_pred.shape[1]\n",
    "    confusion_matrix = torch.zeros(num_classes, num_classes)\n",
    "    predicted = soft_pred.argmax(1)\n",
    "    for i in range(num_samples):\n",
    "        confusion_matrix[target[i], predicted[i]] += 1\n",
    "    return confusion_matrix"
   ]
  },
  {
   "cell_type": "code",
   "execution_count": 13,
   "id": "387aac9b-887d-4354-8ada-144ba485f157",
   "metadata": {},
   "outputs": [],
   "source": [
    "def evaluate(model, dataloader):\n",
    "    ## Set model to evaluation mode (important for dropout and batch normalization layers)\n",
    "    model.eval()\n",
    "    loss_track = 0\n",
    "    acc_track = 0\n",
    "\n",
    "    ## Initialize confusion matrix\n",
    "    con_mat_track = torch.zeros(3, 3)\n",
    "\n",
    "    with torch.inference_mode(): \n",
    "        for inputs, labels in dataloader:\n",
    "            ## Move data to device\n",
    "            inputs = inputs.to(device)\n",
    "            labels = labels.to(device)\n",
    "\n",
    "            ## Forward pass\n",
    "            outputs = model(inputs)\n",
    "\n",
    "            ## Compute loss\n",
    "            loss = loss_function(outputs, labels)\n",
    "\n",
    "            ## Compute metrics\n",
    "            acc = accuracy(outputs, labels)\n",
    "            con_mat = confusion_matrix(outputs, labels)\n",
    "\n",
    "            ## Update statistics\n",
    "            loss_track += loss.item()\n",
    "            acc_track += acc\n",
    "            con_mat_track += con_mat\n",
    "\n",
    "        ## Compute average loss and accuracy\n",
    "        loss_track /= len(dataloader)\n",
    "        acc_track /= len(dataloader)\n",
    "    return loss_track, acc_track, con_mat_track"
   ]
  },
  {
   "cell_type": "code",
   "execution_count": 14,
   "id": "53a15eb3-4029-4485-b431-d22f34035549",
   "metadata": {},
   "outputs": [],
   "source": [
    "def plot_confusion_matrix(cm, path = None):\n",
    "    \"\"\"Plots the confusion matrix and saves the plot\"\"\"\n",
    "    fig, ax = plt.subplots(figsize=(4, 4))\n",
    "    ax.matshow(cm, cmap=\"Blues\")\n",
    "    for i in range(cm.shape[0]):\n",
    "        for j in range(cm.shape[1]):\n",
    "            ax.text(i, j, f\"{cm[j, i]:.0f}\", ha=\"center\", va=\"center\")\n",
    "\n",
    "    plt.xlabel(\"Predicted label\")\n",
    "    plt.ylabel(\"True label\")\n",
    "\n",
    "    plt.xticks(range(3))\n",
    "    plt.yticks(range(3))\n",
    "    plt.tight_layout()\n",
    "    if path:\n",
    "        plt.savefig(path)\n",
    "    plt.show()"
   ]
  },
  {
   "cell_type": "code",
   "execution_count": 15,
   "id": "01984603-bee3-4bfa-8285-2c169ed39d59",
   "metadata": {},
   "outputs": [],
   "source": [
    "#Use cross entropy as loss\n",
    "loss_function = nn.CrossEntropyLoss()"
   ]
  },
  {
   "cell_type": "code",
   "execution_count": 16,
   "id": "8fa2696d-aa9e-49ac-a1d0-220cb37f4fb9",
   "metadata": {},
   "outputs": [],
   "source": [
    "#use SGD as optimizer\n",
    "optimizer = torch.optim.SGD(model.parameters(), lr=0.001, momentum=0.9)"
   ]
  },
  {
   "cell_type": "code",
   "execution_count": 17,
   "id": "731896ce-7837-4ec3-9992-538c36c35ffe",
   "metadata": {},
   "outputs": [],
   "source": [
    "#define the function to do the training\n",
    "\n",
    "def train_one_step(model, inputs, labels, loss_function, optimizer):\n",
    "    inputs = inputs.to(device)\n",
    "    labels = labels.to(device)\n",
    "\n",
    "    ## Zero the gradients from last gradient update (otherwise they accumulate)\n",
    "    optimizer.zero_grad()\n",
    "\n",
    "    ## Forward pass\n",
    "    outputs = model(inputs)\n",
    "\n",
    "    ## Compute loss\n",
    "    batch_loss = loss_function(outputs, labels)\n",
    "\n",
    "    ## Backward pass\n",
    "    batch_loss.backward()\n",
    "    optimizer.step()\n",
    "\n",
    "    ## Compute metrics\n",
    "    batch_acc = accuracy(outputs, labels)\n",
    "    return batch_loss, batch_acc\n",
    "\n",
    "\n",
    "def train_one_epoch(model, dataloader):\n",
    "    ## Set model in training mode\n",
    "    model.train()\n",
    "\n",
    "    loss = 0\n",
    "    acc = 0\n",
    "\n",
    "    for inputs, labels in dataloader:\n",
    "        batch_loss, batch_acc = train_one_step(\n",
    "            model, inputs, labels, loss_function, optimizer\n",
    "        )\n",
    "        ## Update statistics\n",
    "        loss += batch_loss.item()\n",
    "        acc += batch_acc\n",
    "\n",
    "    ## Compute average loss and accuracy\n",
    "    loss /= len(dataloader)\n",
    "    acc /= len(dataloader)\n",
    "    return loss, acc"
   ]
  },
  {
   "cell_type": "code",
   "execution_count": 48,
   "id": "c428d873-e2f8-460e-9491-6b29e18019ed",
   "metadata": {},
   "outputs": [
    {
     "name": "stdout",
     "output_type": "stream",
     "text": [
      "Epoch 1: Train loss = 0.8039, Train acc = 0.6527 | Val loss = 0.5996, val acc = 0.7500\n",
      "Epoch 2: Train loss = 0.5705, Train acc = 0.7667 | Val loss = 0.5400, val acc = 0.7783\n",
      "Epoch 3: Train loss = 0.4784, Train acc = 0.8133 | Val loss = 0.4973, val acc = 0.8100\n",
      "Epoch 4: Train loss = 0.3739, Train acc = 0.8573 | Val loss = 0.5914, val acc = 0.7567\n",
      "Epoch 5: Train loss = 0.3066, Train acc = 0.8853 | Val loss = 0.4478, val acc = 0.8238\n",
      "Epoch 6: Train loss = 0.1972, Train acc = 0.9273 | Val loss = 0.4431, val acc = 0.8458\n",
      "Epoch 7: Train loss = 0.1904, Train acc = 0.9300 | Val loss = 0.5047, val acc = 0.8263\n",
      "Epoch 8: Train loss = 0.1031, Train acc = 0.9607 | Val loss = 0.5132, val acc = 0.8379\n",
      "Epoch 9: Train loss = 0.1294, Train acc = 0.9527 | Val loss = 0.6279, val acc = 0.8175\n",
      "Epoch 10: Train loss = 0.0773, Train acc = 0.9727 | Val loss = 0.6159, val acc = 0.8367\n",
      "Epoch 11: Train loss = 0.0882, Train acc = 0.9667 | Val loss = 0.5998, val acc = 0.8454\n",
      "Epoch 12: Train loss = 0.0519, Train acc = 0.9800 | Val loss = 0.6147, val acc = 0.8283\n",
      "Epoch 13: Train loss = 0.0199, Train acc = 0.9933 | Val loss = 0.6114, val acc = 0.8492\n",
      "Epoch 14: Train loss = 0.0028, Train acc = 1.0000 | Val loss = 0.6036, val acc = 0.8621\n",
      "Epoch 15: Train loss = 0.0003, Train acc = 1.0000 | Val loss = 0.6137, val acc = 0.8663\n",
      "Early stopping triggered.\n"
     ]
    }
   ],
   "source": [
    "report_template = \"Epoch {}: Train loss = {:.4f}, Train acc = {:.4f} | Val loss = {:.4f}, val acc = {:.4f}\"\n",
    "early_stop_patience = 10\n",
    "best_val_loss = float('inf')\n",
    "patience_counter = 0\n",
    "\n",
    "#train the model on the dataset\n",
    "for epoch in range(1, 100):\n",
    "    train_loss, train_acc = train_one_epoch(model, train_dataloader)\n",
    "    val_loss, val_acc, con_mat = evaluate(model, val_dataloader)\n",
    "\n",
    "    #early stopping criteria\n",
    "    if val_loss < best_val_loss:\n",
    "        best_val_loss = val_loss\n",
    "        patience_counter = 0\n",
    "        #save the best model\n",
    "        torch.save(model.state_dict(), \"best_model.pth\")\n",
    "    else:\n",
    "        patience_counter += 1\n",
    "        if patience_counter >= early_stop_patience:\n",
    "            print(\"Early stopping triggered.\")\n",
    "            break\n",
    "        \n",
    "    print(report_template.format(epoch, train_loss, train_acc, val_loss, val_acc))"
   ]
  },
  {
   "cell_type": "code",
   "execution_count": 49,
   "id": "b1847bbe-c18e-4cac-a208-177d6b8840a3",
   "metadata": {},
   "outputs": [
    {
     "data": {
      "text/plain": [
       "<All keys matched successfully>"
      ]
     },
     "execution_count": 49,
     "metadata": {},
     "output_type": "execute_result"
    }
   ],
   "source": [
    "#load the best model found\n",
    "model.load_state_dict(torch.load(\"best_model.pth\", weights_only=True))"
   ]
  },
  {
   "cell_type": "code",
   "execution_count": 50,
   "id": "643b336c-0f97-4fce-a19f-dd4315d166f1",
   "metadata": {},
   "outputs": [
    {
     "name": "stdout",
     "output_type": "stream",
     "text": [
      "After training: Val loss = 0.4431, Val accuracy = 0.8458\n",
      "Confusion matrix:\n"
     ]
    },
    {
     "data": {
      "image/png": "[encoded data removed]",
      "text/plain": [
       "<Figure size 400x400 with 1 Axes>"
      ]
     },
     "metadata": {},
     "output_type": "display_data"
    }
   ],
   "source": [
    "## Evaluate the model on the validation set\n",
    "val_loss, val_acc, con_mat = evaluate(model.to(device), val_dataloader)\n",
    "print(f\"After training: Val loss = {val_loss:.4f}, Val accuracy = {val_acc:.4f}\")\n",
    "print(\"Confusion matrix:\")\n",
    "plot_confusion_matrix(con_mat, \"./conf_mat_val.png\")"
   ]
  },
  {
   "cell_type": "code",
   "execution_count": 18,
   "id": "95478dc2-2aa6-47e3-aafe-f1083c35ab78",
   "metadata": {},
   "outputs": [
    {
     "name": "stdout",
     "output_type": "stream",
     "text": [
      "Using device: cuda\n",
      "VGG11(\n",
      "  (layer1): Sequential(\n",
      "    (0): Conv2d(3, 64, kernel_size=(3, 3), stride=(1, 1), padding=(1, 1))\n",
      "    (1): BatchNorm2d(64, eps=1e-05, momentum=0.1, affine=True, track_running_stats=True)\n",
      "    (2): ReLU()\n",
      "    (3): MaxPool2d(kernel_size=2, stride=2, padding=0, dilation=1, ceil_mode=False)\n",
      "  )\n",
      "  (layer2): Sequential(\n",
      "    (0): Conv2d(64, 128, kernel_size=(3, 3), stride=(1, 1), padding=(1, 1))\n",
      "    (1): BatchNorm2d(128, eps=1e-05, momentum=0.1, affine=True, track_running_stats=True)\n",
      "    (2): ReLU()\n",
      "    (3): MaxPool2d(kernel_size=2, stride=2, padding=0, dilation=1, ceil_mode=False)\n",
      "  )\n",
      "  (layer3): Sequential(\n",
      "    (0): Conv2d(128, 256, kernel_size=(3, 3), stride=(1, 1), padding=(1, 1))\n",
      "    (1): BatchNorm2d(256, eps=1e-05, momentum=0.1, affine=True, track_running_stats=True)\n",
      "    (2): ReLU()\n",
      "  )\n",
      "  (layer4): Sequential(\n",
      "    (0): Conv2d(256, 256, kernel_size=(3, 3), stride=(1, 1), padding=(1, 1))\n",
      "    (1): BatchNorm2d(256, eps=1e-05, momentum=0.1, affine=True, track_running_stats=True)\n",
      "    (2): ReLU()\n",
      "    (3): MaxPool2d(kernel_size=2, stride=2, padding=0, dilation=1, ceil_mode=False)\n",
      "  )\n",
      "  (layer5): Sequential(\n",
      "    (0): Conv2d(256, 512, kernel_size=(3, 3), stride=(1, 1), padding=(1, 1))\n",
      "    (1): BatchNorm2d(512, eps=1e-05, momentum=0.1, affine=True, track_running_stats=True)\n",
      "    (2): ReLU()\n",
      "  )\n",
      "  (layer6): Sequential(\n",
      "    (0): Conv2d(512, 512, kernel_size=(3, 3), stride=(1, 1), padding=(1, 1))\n",
      "    (1): BatchNorm2d(512, eps=1e-05, momentum=0.1, affine=True, track_running_stats=True)\n",
      "    (2): ReLU()\n",
      "    (3): MaxPool2d(kernel_size=2, stride=2, padding=0, dilation=1, ceil_mode=False)\n",
      "  )\n",
      "  (layer7): Sequential(\n",
      "    (0): Conv2d(512, 512, kernel_size=(3, 3), stride=(1, 1), padding=(1, 1))\n",
      "    (1): BatchNorm2d(512, eps=1e-05, momentum=0.1, affine=True, track_running_stats=True)\n",
      "    (2): ReLU()\n",
      "  )\n",
      "  (layer8): Sequential(\n",
      "    (0): Conv2d(512, 512, kernel_size=(3, 3), stride=(1, 1), padding=(1, 1))\n",
      "    (1): BatchNorm2d(512, eps=1e-05, momentum=0.1, affine=True, track_running_stats=True)\n",
      "    (2): ReLU()\n",
      "    (3): MaxPool2d(kernel_size=2, stride=2, padding=0, dilation=1, ceil_mode=False)\n",
      "  )\n",
      "  (layer9): Sequential(\n",
      "    (0): Linear(in_features=4608, out_features=4096, bias=True)\n",
      "    (1): ReLU()\n",
      "    (2): Dropout(p=0.5, inplace=False)\n",
      "  )\n",
      "  (layer10): Sequential(\n",
      "    (0): Linear(in_features=4096, out_features=4096, bias=True)\n",
      "    (1): ReLU()\n",
      "    (2): Dropout(p=0.5, inplace=False)\n",
      "  )\n",
      "  (layer11): Sequential(\n",
      "    (0): Linear(in_features=4096, out_features=3, bias=True)\n",
      "  )\n",
      ")\n"
     ]
    }
   ],
   "source": [
    "\n",
    "model = VGG11(in_channels=3, num_classes=3)\n",
    "\n",
    "print(f\"Using device: {device}\")\n",
    "\n",
    "#add dropout to layer 9 and layer 10\n",
    "\n",
    "model.layer9 = nn.Sequential(\n",
    "    nn.Linear(3*3*512, 4096),\n",
    "    nn.ReLU(),\n",
    "    nn.Dropout(p=0.5)\n",
    ")\n",
    "model.layer10 = nn.Sequential(\n",
    "    nn.Linear(4096, 4096),\n",
    "    nn.ReLU(),\n",
    "    nn.Dropout(p=0.5)\n",
    ")\n",
    "\n",
    "## Move model to device\n",
    "model = model.to(device)\n",
    "print(model)\n"
   ]
  },
  {
   "cell_type": "code",
   "execution_count": 19,
   "id": "35257dd7-7680-4f12-8530-aef9f16038da",
   "metadata": {},
   "outputs": [],
   "source": [
    "#redefine optimizer and loss_function\n",
    "\n",
    "optimizer = torch.optim.SGD(model.parameters(), lr=0.001, momentum=0.9)\n",
    "loss_function = nn.CrossEntropyLoss()"
   ]
  },
  {
   "cell_type": "code",
   "execution_count": 44,
   "id": "d02e21b5-1c3c-42ed-8b33-89e4a0956882",
   "metadata": {},
   "outputs": [
    {
     "name": "stdout",
     "output_type": "stream",
     "text": [
      "Epoch 1: Train loss = 0.0853, Train acc = 0.9680 | Val loss = 0.6079, val acc = 0.8300\n",
      "Epoch 2: Train loss = 0.1138, Train acc = 0.9607 | Val loss = 0.6740, val acc = 0.8321\n",
      "Epoch 3: Train loss = 0.0895, Train acc = 0.9700 | Val loss = 0.5607, val acc = 0.8400\n",
      "Epoch 4: Train loss = 0.0652, Train acc = 0.9807 | Val loss = 0.4733, val acc = 0.8592\n",
      "Epoch 5: Train loss = 0.0713, Train acc = 0.9793 | Val loss = 0.5222, val acc = 0.8396\n",
      "Epoch 6: Train loss = 0.0544, Train acc = 0.9813 | Val loss = 0.5249, val acc = 0.8633\n",
      "Epoch 7: Train loss = 0.0441, Train acc = 0.9880 | Val loss = 0.7117, val acc = 0.8442\n",
      "Epoch 8: Train loss = 0.0957, Train acc = 0.9640 | Val loss = 0.4839, val acc = 0.8688\n",
      "Epoch 9: Train loss = 0.0150, Train acc = 0.9973 | Val loss = 0.5508, val acc = 0.8692\n",
      "Epoch 10: Train loss = 0.0026, Train acc = 0.9993 | Val loss = 0.5903, val acc = 0.8742\n",
      "Epoch 11: Train loss = 0.0009, Train acc = 1.0000 | Val loss = 0.6287, val acc = 0.8771\n",
      "Epoch 12: Train loss = 0.0006, Train acc = 1.0000 | Val loss = 0.6505, val acc = 0.8788\n",
      "Epoch 13: Train loss = 0.0069, Train acc = 0.9960 | Val loss = 0.8215, val acc = 0.8529\n",
      "Early stopping triggered.\n"
     ]
    }
   ],
   "source": [
    "#repeat training as before\n",
    "\n",
    "report_template = \"Epoch {}: Train loss = {:.4f}, Train acc = {:.4f} | Val loss = {:.4f}, val acc = {:.4f}\"\n",
    "early_stop_patience = 10\n",
    "best_val_loss = float('inf')\n",
    "patience_counter = 0\n",
    "\n",
    "\n",
    "for epoch in range(1, 100):\n",
    "    train_loss, train_acc = train_one_epoch(model, train_dataloader)\n",
    "    val_loss, val_acc, con_mat = evaluate(model, val_dataloader)\n",
    "\n",
    "    if val_loss < best_val_loss:\n",
    "        best_val_loss = val_loss\n",
    "        patience_counter = 0\n",
    "        torch.save(model.state_dict(), \"best_model.pth\")\n",
    "    else:\n",
    "        patience_counter += 1\n",
    "        if patience_counter >= early_stop_patience:\n",
    "            print(\"Early stopping triggered.\")\n",
    "            break\n",
    "        \n",
    "    print(report_template.format(epoch, train_loss, train_acc, val_loss, val_acc))"
   ]
  },
  {
   "cell_type": "code",
   "execution_count": 47,
   "id": "ab709648-7067-465b-9784-9f12a8134e8e",
   "metadata": {},
   "outputs": [
    {
     "data": {
      "text/plain": [
       "<All keys matched successfully>"
      ]
     },
     "execution_count": 47,
     "metadata": {},
     "output_type": "execute_result"
    }
   ],
   "source": [
    "model.load_state_dict(torch.load(\"best_model.pth\", weights_only=True))"
   ]
  },
  {
   "cell_type": "code",
   "execution_count": 48,
   "id": "a099d439-ae64-4721-a5fc-aa56221cea79",
   "metadata": {},
   "outputs": [
    {
     "name": "stdout",
     "output_type": "stream",
     "text": [
      "After training: Val loss = 0.4733, Val accuracy = 0.8592\n",
      "Confusion matrix:\n"
     ]
    },
    {
     "data": {
      "image/png": "[encoded data removed]",
      "text/plain": [
       "<Figure size 400x400 with 1 Axes>"
      ]
     },
     "metadata": {},
     "output_type": "display_data"
    }
   ],
   "source": [
    "## Evaluate the model on the validation set\n",
    "val_loss, val_acc, con_mat = evaluate(model.to(device), val_dataloader)\n",
    "print(f\"After training: Val loss = {val_loss:.4f}, Val accuracy = {val_acc:.4f}\")\n",
    "print(\"Confusion matrix:\")\n",
    "plot_confusion_matrix(con_mat,  \"./conf_mat_val_drop.png\")"
   ]
  },
  {
   "cell_type": "code",
   "execution_count": 49,
   "id": "8b0312ad-1dc3-4857-b10d-26dc4bf7cfa8",
   "metadata": {},
   "outputs": [
    {
     "name": "stdout",
     "output_type": "stream",
     "text": [
      "Dimension of the dataset: 1600, Number of training batches: 400\n"
     ]
    }
   ],
   "source": [
    "#load new data, create the dataset and the dataloader\n",
    "\n",
    "new_evaluation_data = np.load('./problem2/problem2/new_evaluation_data_with_labels.npz')\n",
    "new_evaluation_images = new_evaluation_data['a'] \n",
    "new_evaluation_labels = new_evaluation_data[ 'b' ]\n",
    "unlabeled_evaluation_data = np.load('./problem2/problem2/new_evaluation_data_without_labels.npz' )\n",
    "unlabeled_evaluation_images = unlabeled_evaluation_data['a'] # no ’ b ’\n",
    "\n",
    "dim_dataset = np.shape(new_evaluation_images)[0]\n",
    "\n",
    "index = torch.arange(dim_dataset)\n",
    "\n",
    "entropy_dataset = TensorDataset(torch.from_numpy(new_evaluation_images).float(), torch.from_numpy(new_evaluation_labels).long(), index)\n",
    "\n",
    "batch_size = 4\n",
    "entropy_dataloader = torch.utils.data.DataLoader(\n",
    "    dataset=entropy_dataset, batch_size=batch_size, shuffle=False\n",
    ")\n",
    "\n",
    "print(f\"Dimension of the dataset: {dim_dataset}, Number of training batches: {len(entropy_dataloader)}\")\n"
   ]
  },
  {
   "cell_type": "code",
   "execution_count": 50,
   "id": "7dd2cb3f-570e-4e99-b00e-0c50d958ffee",
   "metadata": {},
   "outputs": [],
   "source": [
    "def find_entropy(model, dataloader, dim_dataset):\n",
    "    \"\"\"This function computes entropy for a set om images\"\"\"\n",
    "    model.eval()\n",
    "    #initialize return vector\n",
    "    entropy_sample = torch.zeros(dim_dataset, dtype=torch.float32).to(device)\n",
    "\n",
    "    with torch.inference_mode():  ## also works with torch.no_grad(), but torch.inference_mode() is more explicit, future-proof and preferred\n",
    "        for batch in dataloader:\n",
    "            #check if labels are present\n",
    "            if len(batch) == 3:\n",
    "                inputs, labels, index = batch\n",
    "            elif len(batch) == 2:\n",
    "                inputs, index = batch\n",
    "                labels = None\n",
    "            else:\n",
    "                raise ValueError(\"Unexpected batch format: should have 2 or 3 elements per batch\")\n",
    "\n",
    "\n",
    "            ## Move data to device\n",
    "            inputs = inputs.to(device)\n",
    "            index = index.to(device)\n",
    "            #repeat 10 times for each image\n",
    "\n",
    "            softmax_outputs_sum = torch.zeros_like(model(inputs))\n",
    "            for cont in range(10):\n",
    "                ## Forward pass\n",
    "                outputs = model(inputs)\n",
    "                \n",
    "                #compute softmax\n",
    "                outputs = outputs.exp()\n",
    "                softmax_outputs_sum += outputs / outputs.sum(1, keepdim=True)\n",
    "                #outputs = torch.argmax(outputs / outputs.sum(1, keepdim=True), dim=1)\n",
    "\n",
    "\n",
    "            mean_softmax_outputs = softmax_outputs_sum / 10\n",
    "\n",
    "            \n",
    "            \n",
    "            entropy_sample[index] = -(mean_softmax_outputs * mean_softmax_outputs.log()).sum(dim=1)\n",
    "\n",
    "\n",
    "\n",
    "\n",
    "    return entropy_sample"
   ]
  },
  {
   "cell_type": "code",
   "execution_count": 51,
   "id": "248820e2-b4d0-4ec4-a5a5-8acdccbf3f28",
   "metadata": {},
   "outputs": [
    {
     "data": {
      "text/plain": [
       "array([3.7714916e-01, 3.4290159e-01, 2.9559276e-05, ..., 1.2485583e-06,\n",
       "       3.0224007e-03, 1.0963972e-01], dtype=float32)"
      ]
     },
     "execution_count": 51,
     "metadata": {},
     "output_type": "execute_result"
    }
   ],
   "source": [
    "entropy = find_entropy(model, entropy_dataloader, dim_dataset).detach().cpu().numpy()\n",
    "entropy"
   ]
  },
  {
   "cell_type": "code",
   "execution_count": 52,
   "id": "b82c8195-065f-4b0d-8f9f-53a6e5729ea0",
   "metadata": {},
   "outputs": [
    {
     "data": {
      "image/png": "[encoded data removed]",
      "text/plain": [
       "<Figure size 1200x600 with 1 Axes>"
      ]
     },
     "metadata": {},
     "output_type": "display_data"
    }
   ],
   "source": [
    "# Data masks\n",
    "birds = (entropy[new_evaluation_labels == 3])\n",
    "not_birds = (entropy[new_evaluation_labels != 3])\n",
    "\n",
    "# Plot histogram\n",
    "plt.figure(figsize=(12, 6))\n",
    "plt.hist(birds, bins=30, alpha=0.6, label='Birds', color='red')\n",
    "plt.hist(not_birds, bins=30, alpha=0.6, label='non birds', color='green')\n",
    "\n",
    "# Plot mean lines\n",
    "plt.axvline(birds.mean(), color='red', linestyle='--', linewidth=2, label='Mean birds')\n",
    "plt.axvline(not_birds.mean(), color='green', linestyle='--', linewidth=2, label='Mean non birds')\n",
    "\n",
    "# Labels and title\n",
    "plt.xlabel(\"Entropy\")\n",
    "plt.ylabel(\"Frequency\")\n",
    "plt.title(\"Entropy distribution: birds vs non birds\")\n",
    "plt.legend()\n",
    "plt.savefig(\"./hist_birds.png\")\n",
    "plt.show()\n"
   ]
  },
  {
   "cell_type": "code",
   "execution_count": 53,
   "id": "78aa5fcd-117c-44c6-b275-7b4a7dd839bf",
   "metadata": {},
   "outputs": [
    {
     "data": {
      "text/plain": [
       "(413, 1187)"
      ]
     },
     "execution_count": 53,
     "metadata": {},
     "output_type": "execute_result"
    }
   ],
   "source": [
    "np.size(birds), np.size(not_birds)"
   ]
  },
  {
   "cell_type": "code",
   "execution_count": 54,
   "id": "eddeea29-595e-4a32-8d82-3a662b281f3f",
   "metadata": {},
   "outputs": [
    {
     "data": {
      "text/plain": [
       "array([3.7714916e-01, 3.4290159e-01, 2.9559276e-05, ..., 1.2485583e-06,\n",
       "       3.0224007e-03, 1.0963972e-01], dtype=float32)"
      ]
     },
     "execution_count": 54,
     "metadata": {},
     "output_type": "execute_result"
    }
   ],
   "source": [
    "x = entropy\n",
    "x"
   ]
  },
  {
   "cell_type": "code",
   "execution_count": 55,
   "id": "2d9bed7e-7969-4e00-af27-ee66a1db4316",
   "metadata": {},
   "outputs": [],
   "source": [
    "def loss_bird(x, birds, not_birds, len_bird, len_not_bird):\n",
    "    \n",
    "    #we want to maximize the sum of the ratio of bird pictures eliminated and non bird pictures kept\n",
    "    return np.argmax( np.sum(birds>=x[:, None], axis=1)/len_bird +  np.sum(not_birds<x[:, None], axis=1)/len_not_bird)"
   ]
  },
  {
   "cell_type": "code",
   "execution_count": 56,
   "id": "a6e7a43f-082a-4e0c-9b55-69c19d1bf9a1",
   "metadata": {},
   "outputs": [
    {
     "data": {
      "text/plain": [
       "0.10521319"
      ]
     },
     "execution_count": 56,
     "metadata": {},
     "output_type": "execute_result"
    }
   ],
   "source": [
    "threshold_index = loss_bird(x, birds, not_birds, np.size(birds), np.size(not_birds))\n",
    "#find the threshold\n",
    "threshold = x[threshold_index]\n",
    "threshold"
   ]
  },
  {
   "cell_type": "code",
   "execution_count": 57,
   "id": "fabcb204-301c-4472-9926-765780747995",
   "metadata": {},
   "outputs": [
    {
     "data": {
      "image/png": "[encoded data removed]",
      "text/plain": [
       "<Figure size 1200x600 with 1 Axes>"
      ]
     },
     "metadata": {},
     "output_type": "display_data"
    }
   ],
   "source": [
    "# Plot histograms\n",
    "plt.figure(figsize=(12, 6))\n",
    "plt.hist(birds, bins=30, alpha=0.6, label='Birds', color='red')\n",
    "plt.hist(not_birds, bins=30, alpha=0.6, label='non birds', color='green')\n",
    "\n",
    "# Plot mean lines\n",
    "plt.axvline(birds.mean(), color='red', linestyle='--', linewidth=2, label='Mean birds')\n",
    "plt.axvline(not_birds.mean(), color='green', linestyle='--', linewidth=2, label='Mean Not birds')\n",
    "plt.axvline(threshold, color='blue', linestyle='--', linewidth=2, label='Threshold')\n",
    "\n",
    "# Labels and title\n",
    "plt.xlabel(\"Entropy\")\n",
    "plt.ylabel(\"Frequency\")\n",
    "plt.title(\"Entropy distribution: birds vs Others\")\n",
    "plt.legend()\n",
    "plt.savefig(\"./hist_thres.png\")\n",
    "plt.show()"
   ]
  },
  {
   "cell_type": "code",
   "execution_count": 58,
   "id": "0425b163-30e2-49f1-9426-99aecc7434ec",
   "metadata": {},
   "outputs": [
    {
     "name": "stdout",
     "output_type": "stream",
     "text": [
      "273 368\n"
     ]
    }
   ],
   "source": [
    "print(np.sum(birds>=threshold) , np.sum(not_birds > threshold))"
   ]
  },
  {
   "cell_type": "code",
   "execution_count": 59,
   "id": "c286f311-a072-415c-a7e9-b23dae9bdc41",
   "metadata": {},
   "outputs": [
    {
     "name": "stdout",
     "output_type": "stream",
     "text": [
      "Number of training batches: 400\n"
     ]
    }
   ],
   "source": [
    "#load unlabelled dataset\n",
    "\n",
    "unlabeled_evaluation_images = unlabeled_evaluation_data['a'] # no ’ b ’\n",
    "\n",
    "dim_dataset = np.shape(unlabeled_evaluation_images)[0]\n",
    "\n",
    "index = torch.arange(dim_dataset)\n",
    "\n",
    "unlab_eval_dataset = TensorDataset(torch.from_numpy(unlabeled_evaluation_images).float(), index)\n",
    "\n",
    "batch_size = 4\n",
    "unlab_eval_dataloader = torch.utils.data.DataLoader(\n",
    "    dataset=unlab_eval_dataset, batch_size=batch_size, shuffle=False\n",
    ")\n",
    "\n",
    "print(f\"Number of training batches: {len(unlab_eval_dataloader)}\")"
   ]
  },
  {
   "cell_type": "code",
   "execution_count": 60,
   "id": "71c9c6d4-2099-44ae-b8bc-19e385b2fedf",
   "metadata": {},
   "outputs": [],
   "source": [
    "#find entropy for the unlabelled dataset\n",
    "\n",
    "entropy_unlab = find_entropy(model, unlab_eval_dataloader, dim_dataset).detach().cpu().numpy()"
   ]
  },
  {
   "cell_type": "code",
   "execution_count": 61,
   "id": "51085bc3-b8e9-4f15-9e74-af72ca1288c2",
   "metadata": {},
   "outputs": [
    {
     "name": "stdout",
     "output_type": "stream",
     "text": [
      "Number of predicted known classes samples: 937\n"
     ]
    }
   ],
   "source": [
    "#keep the images under the threshold\n",
    "\n",
    "below_tresh = entropy_unlab < threshold\n",
    "print(f\"Number of predicted known classes samples: {np.sum(below_tresh)}\")"
   ]
  },
  {
   "cell_type": "code",
   "execution_count": 62,
   "id": "301fed15-75c8-409f-af1d-b49c60c5df9d",
   "metadata": {},
   "outputs": [],
   "source": [
    "#save the prediction\n",
    "np.savez('./prediction_classes.npz',below_tresh)"
   ]
  },
  {
   "cell_type": "code",
   "execution_count": null,
   "id": "b69aa07e-1ec0-406e-8d24-b49b5cd5c351",
   "metadata": {},
   "outputs": [],
   "source": []
  }
 ],
 "metadata": {
  "kernelspec": {
   "display_name": "Python 3 (ipykernel)",
   "language": "python",
   "name": "python3"
  },
  "language_info": {
   "codemirror_mode": {
    "name": "ipython",
    "version": 3
   },
   "file_extension": ".py",
   "mimetype": "text/x-python",
   "name": "python",
   "nbconvert_exporter": "python",
   "pygments_lexer": "ipython3",
   "version": "3.12.7"
  }
 },
 "nbformat": 4,
 "nbformat_minor": 5
}
